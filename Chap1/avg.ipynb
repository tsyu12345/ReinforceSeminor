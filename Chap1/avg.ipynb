{
 "cells": [
  {
   "cell_type": "code",
   "execution_count": 1,
   "metadata": {},
   "outputs": [],
   "source": [
    "import numpy as np"
   ]
  },
  {
   "cell_type": "code",
   "execution_count": 3,
   "metadata": {},
   "outputs": [],
   "source": [
    "np.random.seed(123)\n",
    "try_times = 10\n",
    "rewards = []"
   ]
  },
  {
   "cell_type": "code",
   "execution_count": 13,
   "metadata": {},
   "outputs": [
    {
     "name": "stdout",
     "output_type": "stream",
     "text": [
      "1 31.57432807016857\n",
      "2 16.099615786132084\n",
      "3 10.957973541083996\n",
      "4 8.429065765218063\n",
      "5 6.759891609840937\n",
      "6 5.760523481774672\n",
      "7 4.972401037883557\n",
      "8 4.375128778220459\n",
      "9 3.9526096870283496\n",
      "10 3.5669199699867535\n"
     ]
    }
   ],
   "source": [
    "for count in range(1, try_times+1):\n",
    "    # 報酬の記録\n",
    "    reward = np.random.rand()\n",
    "    rewards.append(reward)\n",
    "    # 現時点での価値推定\n",
    "    Q = sum(rewards) / count\n",
    "    print(count, Q)"
   ]
  },
  {
   "cell_type": "code",
   "execution_count": null,
   "metadata": {},
   "outputs": [],
   "source": []
  }
 ],
 "metadata": {
  "kernelspec": {
   "display_name": ".venv",
   "language": "python",
   "name": "python3"
  },
  "language_info": {
   "codemirror_mode": {
    "name": "ipython",
    "version": 3
   },
   "file_extension": ".py",
   "mimetype": "text/x-python",
   "name": "python",
   "nbconvert_exporter": "python",
   "pygments_lexer": "ipython3",
   "version": "3.12.2"
  }
 },
 "nbformat": 4,
 "nbformat_minor": 2
}
