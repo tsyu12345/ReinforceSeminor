{
 "cells": [
  {
   "cell_type": "code",
   "execution_count": 2,
   "metadata": {},
   "outputs": [],
   "source": [
    "import numpy as np"
   ]
  },
  {
   "cell_type": "code",
   "execution_count": 4,
   "metadata": {},
   "outputs": [],
   "source": [
    "np.random.seed(123)\n",
    "try_times = 10\n",
    "rewards = []"
   ]
  },
  {
   "cell_type": "code",
   "execution_count": 5,
   "metadata": {},
   "outputs": [
    {
     "name": "stdout",
     "output_type": "stream",
     "text": [
      "1 0.6964691855978616\n",
      "2 0.49130426027412055\n",
      "3 0.4031533247041481\n",
      "4 0.4401936857988339\n",
      "5 0.4960487425961797\n",
      "6 0.4838916955175599\n",
      "7 0.554873481641425\n",
      "8 0.5711180137593548\n",
      "9 0.5610973346176888\n",
      "10 0.544199352975335\n"
     ]
    }
   ],
   "source": [
    "for count in range(1, try_times+1):\n",
    "    # 報酬の記録\n",
    "    reward = np.random.rand()\n",
    "    rewards.append(reward)\n",
    "    # 現時点での価値推定\n",
    "    Q = sum(rewards) / count\n",
    "    print(count, Q)"
   ]
  },
  {
   "cell_type": "code",
   "execution_count": 6,
   "metadata": {},
   "outputs": [
    {
     "name": "stdout",
     "output_type": "stream",
     "text": [
      "n = 1 : 0.3431780161508694\n",
      "n = 2 : 0.5361138617674555\n",
      "n = 3 : 0.5035999894048451\n",
      "n = 4 : 0.3926194662060259\n",
      "n = 5 : 0.393704424030907\n",
      "n = 6 : 0.45108625431442845\n",
      "n = 7 : 0.41271560804858154\n",
      "n = 8 : 0.38305762656094544\n",
      "n = 9 : 0.399556931814378\n",
      "n = 10 : 0.41278399734262683\n"
     ]
    }
   ],
   "source": [
    "#式（1.5）を使った実装\n",
    "\n",
    "Q = 0\n",
    "try_times = 10\n",
    "\n",
    "for n in range(1, try_times+1):\n",
    "    reward = np.random.rand()\n",
    "    Q = Q + (reward - Q) / n\n",
    "    print(f\"n = {n} : {Q}\")"
   ]
  }
 ],
 "metadata": {
  "kernelspec": {
   "display_name": ".venv",
   "language": "python",
   "name": "python3"
  },
  "language_info": {
   "codemirror_mode": {
    "name": "ipython",
    "version": 3
   },
   "file_extension": ".py",
   "mimetype": "text/x-python",
   "name": "python",
   "nbconvert_exporter": "python",
   "pygments_lexer": "ipython3",
   "version": "3.12.2"
  }
 },
 "nbformat": 4,
 "nbformat_minor": 2
}
